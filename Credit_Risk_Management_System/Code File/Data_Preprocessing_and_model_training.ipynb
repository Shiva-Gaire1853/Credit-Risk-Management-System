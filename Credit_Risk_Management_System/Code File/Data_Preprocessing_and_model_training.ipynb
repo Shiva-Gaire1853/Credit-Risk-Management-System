{
 "cells": [
  {
   "cell_type": "code",
   "execution_count": 1,
   "id": "27f19546",
   "metadata": {},
   "outputs": [],
   "source": [
    "import numpy as np\n",
    "import pandas as pd\n",
    "from sklearn.model_selection import train_test_split\n",
    "from sklearn.ensemble import RandomForestClassifier\n",
    "from sklearn.metrics import accuracy_score\n",
    "from sklearn.metrics import precision_recall_fscore_support\n"
   ]
  },
  {
   "cell_type": "code",
   "execution_count": 2,
   "id": "9cb53059",
   "metadata": {},
   "outputs": [],
   "source": [
    "df = pd.read_csv('dataset_after_EDA.csv')"
   ]
  },
  {
   "cell_type": "code",
   "execution_count": 3,
   "id": "373a035d",
   "metadata": {},
   "outputs": [
    {
     "data": {
      "text/html": [
       "<div>\n",
       "<style scoped>\n",
       "    .dataframe tbody tr th:only-of-type {\n",
       "        vertical-align: middle;\n",
       "    }\n",
       "\n",
       "    .dataframe tbody tr th {\n",
       "        vertical-align: top;\n",
       "    }\n",
       "\n",
       "    .dataframe thead th {\n",
       "        text-align: right;\n",
       "    }\n",
       "</style>\n",
       "<table border=\"1\" class=\"dataframe\">\n",
       "  <thead>\n",
       "    <tr style=\"text-align: right;\">\n",
       "      <th></th>\n",
       "      <th>Unnamed: 0</th>\n",
       "      <th>pct_tl_open_L6M</th>\n",
       "      <th>pct_tl_closed_L6M</th>\n",
       "      <th>Tot_TL_closed_L12M</th>\n",
       "      <th>pct_tl_closed_L12M</th>\n",
       "      <th>Tot_Missed_Pmnt</th>\n",
       "      <th>CC_TL</th>\n",
       "      <th>Home_TL</th>\n",
       "      <th>PL_TL</th>\n",
       "      <th>Secured_TL</th>\n",
       "      <th>...</th>\n",
       "      <th>pct_PL_enq_L6m_of_ever</th>\n",
       "      <th>pct_CC_enq_L6m_of_ever</th>\n",
       "      <th>HL_Flag</th>\n",
       "      <th>GL_Flag</th>\n",
       "      <th>MARITALSTATUS</th>\n",
       "      <th>EDUCATION</th>\n",
       "      <th>GENDER</th>\n",
       "      <th>last_prod_enq2</th>\n",
       "      <th>first_prod_enq2</th>\n",
       "      <th>Approved_Flag</th>\n",
       "    </tr>\n",
       "  </thead>\n",
       "  <tbody>\n",
       "    <tr>\n",
       "      <th>0</th>\n",
       "      <td>0</td>\n",
       "      <td>0.000</td>\n",
       "      <td>0.0</td>\n",
       "      <td>0</td>\n",
       "      <td>0.0</td>\n",
       "      <td>0</td>\n",
       "      <td>0</td>\n",
       "      <td>0</td>\n",
       "      <td>4</td>\n",
       "      <td>1</td>\n",
       "      <td>...</td>\n",
       "      <td>0.0</td>\n",
       "      <td>0.0</td>\n",
       "      <td>1</td>\n",
       "      <td>0</td>\n",
       "      <td>Married</td>\n",
       "      <td>12TH</td>\n",
       "      <td>M</td>\n",
       "      <td>PL</td>\n",
       "      <td>PL</td>\n",
       "      <td>P2</td>\n",
       "    </tr>\n",
       "    <tr>\n",
       "      <th>1</th>\n",
       "      <td>1</td>\n",
       "      <td>0.000</td>\n",
       "      <td>0.0</td>\n",
       "      <td>0</td>\n",
       "      <td>0.0</td>\n",
       "      <td>0</td>\n",
       "      <td>0</td>\n",
       "      <td>0</td>\n",
       "      <td>0</td>\n",
       "      <td>0</td>\n",
       "      <td>...</td>\n",
       "      <td>0.0</td>\n",
       "      <td>0.0</td>\n",
       "      <td>0</td>\n",
       "      <td>0</td>\n",
       "      <td>Single</td>\n",
       "      <td>GRADUATE</td>\n",
       "      <td>F</td>\n",
       "      <td>ConsumerLoan</td>\n",
       "      <td>ConsumerLoan</td>\n",
       "      <td>P2</td>\n",
       "    </tr>\n",
       "    <tr>\n",
       "      <th>2</th>\n",
       "      <td>2</td>\n",
       "      <td>0.125</td>\n",
       "      <td>0.0</td>\n",
       "      <td>0</td>\n",
       "      <td>0.0</td>\n",
       "      <td>1</td>\n",
       "      <td>0</td>\n",
       "      <td>0</td>\n",
       "      <td>0</td>\n",
       "      <td>2</td>\n",
       "      <td>...</td>\n",
       "      <td>0.0</td>\n",
       "      <td>0.0</td>\n",
       "      <td>1</td>\n",
       "      <td>0</td>\n",
       "      <td>Married</td>\n",
       "      <td>SSC</td>\n",
       "      <td>M</td>\n",
       "      <td>ConsumerLoan</td>\n",
       "      <td>others</td>\n",
       "      <td>P2</td>\n",
       "    </tr>\n",
       "  </tbody>\n",
       "</table>\n",
       "<p>3 rows × 44 columns</p>\n",
       "</div>"
      ],
      "text/plain": [
       "   Unnamed: 0  pct_tl_open_L6M  pct_tl_closed_L6M  Tot_TL_closed_L12M  \\\n",
       "0           0            0.000                0.0                   0   \n",
       "1           1            0.000                0.0                   0   \n",
       "2           2            0.125                0.0                   0   \n",
       "\n",
       "   pct_tl_closed_L12M  Tot_Missed_Pmnt  CC_TL  Home_TL  PL_TL  Secured_TL  \\\n",
       "0                 0.0                0      0        0      4           1   \n",
       "1                 0.0                0      0        0      0           0   \n",
       "2                 0.0                1      0        0      0           2   \n",
       "\n",
       "   ...  pct_PL_enq_L6m_of_ever  pct_CC_enq_L6m_of_ever  HL_Flag  GL_Flag  \\\n",
       "0  ...                     0.0                     0.0        1        0   \n",
       "1  ...                     0.0                     0.0        0        0   \n",
       "2  ...                     0.0                     0.0        1        0   \n",
       "\n",
       "   MARITALSTATUS  EDUCATION  GENDER  last_prod_enq2  first_prod_enq2  \\\n",
       "0        Married       12TH       M              PL               PL   \n",
       "1         Single   GRADUATE       F    ConsumerLoan     ConsumerLoan   \n",
       "2        Married        SSC       M    ConsumerLoan           others   \n",
       "\n",
       "   Approved_Flag  \n",
       "0             P2  \n",
       "1             P2  \n",
       "2             P2  \n",
       "\n",
       "[3 rows x 44 columns]"
      ]
     },
     "execution_count": 3,
     "metadata": {},
     "output_type": "execute_result"
    }
   ],
   "source": [
    "df.head(3)"
   ]
  },
  {
   "cell_type": "code",
   "execution_count": 4,
   "id": "093414c2",
   "metadata": {},
   "outputs": [
    {
     "data": {
      "text/plain": [
       "(42064, 44)"
      ]
     },
     "execution_count": 4,
     "metadata": {},
     "output_type": "execute_result"
    }
   ],
   "source": [
    "df.shape"
   ]
  },
  {
   "cell_type": "markdown",
   "id": "0809a23d",
   "metadata": {},
   "source": [
    "# Performing Encoding to the categorical data"
   ]
  },
  {
   "cell_type": "code",
   "execution_count": 5,
   "id": "e99494cc",
   "metadata": {
    "scrolled": true
   },
   "outputs": [
    {
     "name": "stdout",
     "output_type": "stream",
     "text": [
      "<class 'pandas.core.frame.DataFrame'>\n",
      "RangeIndex: 42064 entries, 0 to 42063\n",
      "Data columns (total 44 columns):\n",
      " #   Column                     Non-Null Count  Dtype  \n",
      "---  ------                     --------------  -----  \n",
      " 0   Unnamed: 0                 42064 non-null  int64  \n",
      " 1   pct_tl_open_L6M            42064 non-null  float64\n",
      " 2   pct_tl_closed_L6M          42064 non-null  float64\n",
      " 3   Tot_TL_closed_L12M         42064 non-null  int64  \n",
      " 4   pct_tl_closed_L12M         42064 non-null  float64\n",
      " 5   Tot_Missed_Pmnt            42064 non-null  int64  \n",
      " 6   CC_TL                      42064 non-null  int64  \n",
      " 7   Home_TL                    42064 non-null  int64  \n",
      " 8   PL_TL                      42064 non-null  int64  \n",
      " 9   Secured_TL                 42064 non-null  int64  \n",
      " 10  Unsecured_TL               42064 non-null  int64  \n",
      " 11  Other_TL                   42064 non-null  int64  \n",
      " 12  Age_Oldest_TL              42064 non-null  int64  \n",
      " 13  Age_Newest_TL              42064 non-null  int64  \n",
      " 14  time_since_recent_payment  42064 non-null  int64  \n",
      " 15  max_recent_level_of_deliq  42064 non-null  int64  \n",
      " 16  num_deliq_6_12mts          42064 non-null  int64  \n",
      " 17  num_times_60p_dpd          42064 non-null  int64  \n",
      " 18  num_std_12mts              42064 non-null  int64  \n",
      " 19  num_sub                    42064 non-null  int64  \n",
      " 20  num_sub_6mts               42064 non-null  int64  \n",
      " 21  num_sub_12mts              42064 non-null  int64  \n",
      " 22  num_dbt                    42064 non-null  int64  \n",
      " 23  num_dbt_12mts              42064 non-null  int64  \n",
      " 24  num_lss                    42064 non-null  int64  \n",
      " 25  recent_level_of_deliq      42064 non-null  int64  \n",
      " 26  CC_enq_L12m                42064 non-null  int64  \n",
      " 27  PL_enq_L12m                42064 non-null  int64  \n",
      " 28  time_since_recent_enq      42064 non-null  int64  \n",
      " 29  enq_L3m                    42064 non-null  int64  \n",
      " 30  NETMONTHLYINCOME           42064 non-null  int64  \n",
      " 31  Time_With_Curr_Empr        42064 non-null  int64  \n",
      " 32  CC_Flag                    42064 non-null  int64  \n",
      " 33  PL_Flag                    42064 non-null  int64  \n",
      " 34  pct_PL_enq_L6m_of_ever     42064 non-null  float64\n",
      " 35  pct_CC_enq_L6m_of_ever     42064 non-null  float64\n",
      " 36  HL_Flag                    42064 non-null  int64  \n",
      " 37  GL_Flag                    42064 non-null  int64  \n",
      " 38  MARITALSTATUS              42064 non-null  object \n",
      " 39  EDUCATION                  42064 non-null  object \n",
      " 40  GENDER                     42064 non-null  object \n",
      " 41  last_prod_enq2             42064 non-null  object \n",
      " 42  first_prod_enq2            42064 non-null  object \n",
      " 43  Approved_Flag              42064 non-null  object \n",
      "dtypes: float64(5), int64(33), object(6)\n",
      "memory usage: 14.1+ MB\n"
     ]
    }
   ],
   "source": [
    "df.info()"
   ]
  },
  {
   "cell_type": "code",
   "execution_count": 6,
   "id": "004a6085",
   "metadata": {},
   "outputs": [
    {
     "data": {
      "text/plain": [
       "array(['PL', 'ConsumerLoan', 'others', 'AL', 'HL', 'CC'], dtype=object)"
      ]
     },
     "execution_count": 6,
     "metadata": {},
     "output_type": "execute_result"
    }
   ],
   "source": [
    "df['MARITALSTATUS'].unique()\n",
    "df['EDUCATION'].unique()\n",
    "df['GENDER'].unique()\n",
    "df['last_prod_enq2'].unique()\n",
    "df['first_prod_enq2'].unique()\n",
    "\n"
   ]
  },
  {
   "cell_type": "markdown",
   "id": "a8d14aaf",
   "metadata": {},
   "source": [
    "Ordinal feature -- Education column\n",
    "\n",
    "SSC :1\n",
    "\n",
    "12TH :2\n",
    "\n",
    "graduate : 3\n",
    "\n",
    "Under Graduate = 3\n",
    "\n",
    "post graduate = 4\n",
    "\n",
    "other = 1\n",
    "\n",
    "professional = 3\n"
   ]
  },
  {
   "cell_type": "code",
   "execution_count": 7,
   "id": "98a9afcf",
   "metadata": {},
   "outputs": [],
   "source": [
    "#Performing Label encoding best on the above descripiton\n",
    "df.loc[df['EDUCATION'] == 'SSC',['EDUCATION']] = 1\n",
    "df.loc[df['EDUCATION'] == '12TH',['EDUCATION']] = 2\n",
    "df.loc[df['EDUCATION'] == 'GRADUATE',['EDUCATION']] = 3\n",
    "df.loc[df['EDUCATION'] == 'UNDER GRADUATE',['EDUCATION']] = 3\n",
    "df.loc[df['EDUCATION'] == 'POST-GRADUATE',['EDUCATION']] = 4\n",
    "df.loc[df['EDUCATION'] == 'OTHERS',['EDUCATION']] = 1\n",
    "df.loc[df['EDUCATION'] == 'PROFESSIONAL',['EDUCATION']] = 3\n"
   ]
  },
  {
   "cell_type": "code",
   "execution_count": 8,
   "id": "71397692",
   "metadata": {},
   "outputs": [
    {
     "data": {
      "text/plain": [
       "array([2, 3, 1, 4], dtype=object)"
      ]
     },
     "execution_count": 8,
     "metadata": {},
     "output_type": "execute_result"
    }
   ],
   "source": [
    "df['EDUCATION'].unique()"
   ]
  },
  {
   "cell_type": "code",
   "execution_count": 9,
   "id": "83ba19d1",
   "metadata": {},
   "outputs": [],
   "source": [
    "#performing one hot encoding to other column:\n",
    "df=pd.get_dummies(df,columns=['MARITALSTATUS','GENDER','last_prod_enq2','first_prod_enq2'])"
   ]
  },
  {
   "cell_type": "code",
   "execution_count": null,
   "id": "ea1b1c64",
   "metadata": {},
   "outputs": [],
   "source": []
  },
  {
   "cell_type": "markdown",
   "id": "f129a76f",
   "metadata": {},
   "source": [
    "# Data Preprocessing"
   ]
  },
  {
   "cell_type": "code",
   "execution_count": 10,
   "id": "9c4a6175",
   "metadata": {},
   "outputs": [],
   "source": [
    "y = df['Approved_Flag']\n",
    "X = df.drop(columns=['Approved_Flag'],axis=1)"
   ]
  },
  {
   "cell_type": "code",
   "execution_count": 11,
   "id": "37466b3c",
   "metadata": {},
   "outputs": [],
   "source": [
    "X_train,X_test,y_train,y_test = train_test_split(X,y,test_size=0.2,random_state=42)"
   ]
  },
  {
   "cell_type": "markdown",
   "id": "4de97825",
   "metadata": {},
   "source": [
    "# Random Forest"
   ]
  },
  {
   "cell_type": "code",
   "execution_count": 12,
   "id": "b47ff0a0",
   "metadata": {},
   "outputs": [],
   "source": [
    "#Initally direclty feeding without any normailizing the data or doing any preprocessing \n",
    "rf_classifier = RandomForestClassifier(n_estimators = 200, random_state= 42)\n",
    "rf_classifier.fit(X_train,y_train)\n",
    "y_pred = rf_classifier.predict(X_test)\n"
   ]
  },
  {
   "cell_type": "code",
   "execution_count": 13,
   "id": "dc876aa1",
   "metadata": {},
   "outputs": [
    {
     "name": "stdout",
     "output_type": "stream",
     "text": [
      "accuracy=0.7648876738381077\n",
      "\n",
      "Class p1\n",
      "Precision:0.8439716312056738\n",
      "recall:0.7041420118343196\n",
      "f1_score:0.767741935483871\n",
      "\n",
      "Class p2\n",
      "Precision:0.7940283400809717\n",
      "recall:0.9330029732408325\n",
      "f1_score:0.8579239952610953\n",
      "\n",
      "Class p3\n",
      "Precision:0.4444444444444444\n",
      "recall:0.20528301886792452\n",
      "f1_score:0.2808466701084151\n",
      "\n",
      "Class p4\n",
      "Precision:0.7224926971762414\n",
      "recall:0.7210884353741497\n",
      "f1_score:0.7217898832684825\n",
      "\n"
     ]
    }
   ],
   "source": [
    "#finding all types of evaluation metircs\n",
    "accuracy=accuracy_score(y_test,y_pred)\n",
    "print(f'accuracy={accuracy}')\n",
    "print()\n",
    "precison,recall,fscore,_=precision_recall_fscore_support(y_test,y_pred)\n",
    "for i, v in enumerate(['p1','p2','p3','p4']):\n",
    "    print(f'Class {v}')\n",
    "    print(f'Precision:{precison[i]}')\n",
    "    print(f'recall:{recall[i]}')\n",
    "    print(f'f1_score:{fscore[i]}')\n",
    "    print()"
   ]
  },
  {
   "cell_type": "code",
   "execution_count": 14,
   "id": "181ceb27",
   "metadata": {},
   "outputs": [],
   "source": [
    "df['EDUCATION'] = df['EDUCATION'].astype(int)"
   ]
  },
  {
   "cell_type": "markdown",
   "id": "1b6cf8f6",
   "metadata": {},
   "source": [
    "# xgboost"
   ]
  },
  {
   "cell_type": "code",
   "execution_count": 15,
   "id": "57002c82",
   "metadata": {},
   "outputs": [
    {
     "name": "stdout",
     "output_type": "stream",
     "text": [
      "Accuracy: 0.78\n",
      "Class p1:\n",
      "Precision: 0.8243386243386244\n",
      "Recall: 0.7682445759368837\n",
      "F1 Score: 0.7953037263910159\n",
      "\n",
      "Class p2:\n",
      "Precision: 0.8228051391862955\n",
      "Recall: 0.9139742319127849\n",
      "F1 Score: 0.8659968072119447\n",
      "\n",
      "Class p3:\n",
      "Precision: 0.4692874692874693\n",
      "Recall: 0.28830188679245283\n",
      "F1 Score: 0.35717625058438524\n",
      "\n",
      "Class p4:\n",
      "Precision: 0.7219047619047619\n",
      "Recall: 0.7366375121477162\n",
      "F1 Score: 0.7291967291967293\n",
      "\n"
     ]
    }
   ],
   "source": [
    "from sklearn.preprocessing import LabelEncoder\n",
    "import xgboost as xgb\n",
    "# Perform label encoding on the target column\n",
    "label_encoder = LabelEncoder()\n",
    "df['Approved_Flag'] = label_encoder.fit_transform(df['Approved_Flag'])\n",
    "\n",
    "# Separate features (X) and target (y)\n",
    "y = df['Approved_Flag']\n",
    "X = df.drop(['Approved_Flag'], axis=1)\n",
    "\n",
    "# Split the data into training and testing sets\n",
    "X_train, X_test, y_train, y_test = train_test_split(X, y, test_size=0.2, random_state=42)\n",
    "\n",
    "# Initialize XGBoost classifier\n",
    "xgb_classifier = xgb.XGBClassifier(objective='multi:softmax', num_class=4)\n",
    "\n",
    "# Train the classifier\n",
    "xgb_classifier.fit(X_train, y_train)\n",
    "\n",
    "# Make predictions on the test set\n",
    "y_pred = xgb_classifier.predict(X_test)\n",
    "\n",
    "# Calculate accuracy\n",
    "accuracy = accuracy_score(y_test, y_pred)\n",
    "print(f'Accuracy: {accuracy:.2f}')\n",
    "\n",
    "# Calculate precision, recall, and F1 score\n",
    "precision, recall, f1_score, _ = precision_recall_fscore_support(y_test, y_pred)\n",
    "\n",
    "for i, v in enumerate(['p1', 'p2', 'p3', 'p4']):\n",
    "    print(f\"Class {v}:\")\n",
    "    print(f\"Precision: {precision[i]}\")\n",
    "    print(f\"Recall: {recall[i]}\")\n",
    "    print(f\"F1 Score: {f1_score[i]}\")\n",
    "    print()\n"
   ]
  },
  {
   "cell_type": "code",
   "execution_count": 16,
   "id": "17160eda",
   "metadata": {},
   "outputs": [],
   "source": [
    "#Since we can see accuracy of random_Forest and xgboost\n",
    "#random_state=0.76\n",
    "#xgboost=0.78"
   ]
  },
  {
   "cell_type": "markdown",
   "id": "975373ea",
   "metadata": {},
   "source": [
    "# Hyperparameter tunning in xgboost"
   ]
  },
  {
   "cell_type": "code",
   "execution_count": 17,
   "id": "aecebcf2",
   "metadata": {},
   "outputs": [],
   "source": [
    "# from sklearn.model_selection import GridSearchCV\n",
    "# from xgboost import XGBClassifier\n",
    "\n",
    "# # Define the XGBoost classifier\n",
    "# xgb = XGBClassifier()\n",
    "\n",
    "# # Define the parameter grid\n",
    "# param_grid = {\n",
    "#     'colsample_bytree': [0.1, 0.3, 0.5, 0.7, 0.9],\n",
    "#     'learning_rate': [0.001, 0.01, 0.1, 1],\n",
    "#     'max_depth': [3, 5, 8, 10],\n",
    "#     'alpha': [1, 10, 100],\n",
    "#     'n_estimators': [10, 50, 100]\n",
    "# }\n",
    "\n",
    "# # Perform GridSearchCV with 5-fold cross-validation\n",
    "# grid_search = GridSearchCV(estimator=xgb, param_grid=param_grid, cv=5)\n",
    "# grid_search.fit(X_train, y_train)  \n",
    "\n",
    "# # Print the best parameters and best score\n",
    "# print(\"Best Parameters:\", grid_search.best_params_)\n",
    "# print(\"Best Score:\", grid_search.best_score_)\n"
   ]
  },
  {
   "cell_type": "code",
   "execution_count": 20,
   "id": "c6c3357e",
   "metadata": {},
   "outputs": [
    {
     "name": "stdout",
     "output_type": "stream",
     "text": [
      "Accuracy: 0.78\n",
      "Class p1:\n",
      "Precision: 0.8361702127659575\n",
      "Recall: 0.7751479289940828\n",
      "F1 Score: 0.804503582395087\n",
      "\n",
      "Class p2:\n",
      "Precision: 0.8232574679943101\n",
      "Recall: 0.9177403369672944\n",
      "F1 Score: 0.8679351391883026\n",
      "\n",
      "Class p3:\n",
      "Precision: 0.46420047732696895\n",
      "Recall: 0.29358490566037737\n",
      "F1 Score: 0.3596856218215442\n",
      "\n",
      "Class p4:\n",
      "Precision: 0.744807121661721\n",
      "Recall: 0.7317784256559767\n",
      "F1 Score: 0.738235294117647\n",
      "\n"
     ]
    }
   ],
   "source": [
    "from sklearn.preprocessing import LabelEncoder\n",
    "import xgboost as xgb\n",
    "# Perform label encoding on the target column\n",
    "label_encoder = LabelEncoder()\n",
    "df['Approved_Flag'] = label_encoder.fit_transform(df['Approved_Flag'])\n",
    "\n",
    "# Separate features (X) and target (y)\n",
    "y = df['Approved_Flag']\n",
    "X = df.drop(['Approved_Flag'], axis=1)\n",
    "\n",
    "# Split the data into training and testing sets\n",
    "X_train, X_test, y_train, y_test = train_test_split(X, y, test_size=0.2, random_state=42)\n",
    "\n",
    "# Initialize XGBoost classifier\n",
    "xgb_classifier = xgb.XGBClassifier(\n",
    "    objective='multi:softmax',\n",
    "    colsample_bytree=0.9,\n",
    "    learning_rate=1,\n",
    "    max_depth=3,\n",
    "    alpha=10,\n",
    "    n_estimators=100,\n",
    "    num_class=4)\n",
    "\n",
    "# Train the classifier\n",
    "xgb_classifier.fit(X_train, y_train)\n",
    "\n",
    "# Make predictions on the test set\n",
    "y_pred = xgb_classifier.predict(X_test)\n",
    "\n",
    "# Calculate accuracy\n",
    "accuracy = accuracy_score(y_test, y_pred)\n",
    "print(f'Accuracy: {accuracy:.2f}')\n",
    "\n",
    "# Calculate precision, recall, and F1 score\n",
    "precision, recall, f1_score, _ = precision_recall_fscore_support(y_test, y_pred)\n",
    "\n",
    "for i, v in enumerate(['p1', 'p2', 'p3', 'p4']):\n",
    "    print(f\"Class {v}:\")\n",
    "    print(f\"Precision: {precision[i]}\")\n",
    "    print(f\"Recall: {recall[i]}\")\n",
    "    print(f\"F1 Score: {f1_score[i]}\")\n",
    "    print()\n"
   ]
  },
  {
   "cell_type": "code",
   "execution_count": null,
   "id": "ecd652bc",
   "metadata": {},
   "outputs": [],
   "source": []
  }
 ],
 "metadata": {
  "kernelspec": {
   "display_name": "Python 3 (ipykernel)",
   "language": "python",
   "name": "python3"
  },
  "language_info": {
   "codemirror_mode": {
    "name": "ipython",
    "version": 3
   },
   "file_extension": ".py",
   "mimetype": "text/x-python",
   "name": "python",
   "nbconvert_exporter": "python",
   "pygments_lexer": "ipython3",
   "version": "3.9.6"
  }
 },
 "nbformat": 4,
 "nbformat_minor": 5
}
